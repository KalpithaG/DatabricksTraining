{
 "cells": [
  {
   "cell_type": "code",
   "execution_count": 0,
   "metadata": {
    "application/vnd.databricks.v1+cell": {
     "cellMetadata": {
      "byteLimit": 2048000,
      "rowLimit": 10000
     },
     "inputWidgets": {},
     "nuid": "d97bf731-4671-42f3-88a5-6c82f5d41910",
     "showTitle": false,
     "tableResultSettingsMap": {},
     "title": ""
    }
   },
   "outputs": [],
   "source": [
    "from pyspark.sql.functions import *"
   ]
  },
  {
   "cell_type": "code",
   "execution_count": 0,
   "metadata": {
    "application/vnd.databricks.v1+cell": {
     "cellMetadata": {
      "byteLimit": 2048000,
      "implicitDf": true,
      "rowLimit": 10000
     },
     "inputWidgets": {},
     "nuid": "2f5d315e-fa09-452f-980c-9076224457f5",
     "showTitle": false,
     "tableResultSettingsMap": {},
     "title": ""
    }
   },
   "outputs": [],
   "source": [
    "%sql\n",
    "use catalog cgi_dev;"
   ]
  },
  {
   "cell_type": "markdown",
   "metadata": {
    "application/vnd.databricks.v1+cell": {
     "cellMetadata": {
      "byteLimit": 2048000,
      "rowLimit": 10000
     },
     "inputWidgets": {},
     "nuid": "1e587715-293b-4136-8d56-abf71815a927",
     "showTitle": false,
     "tableResultSettingsMap": {},
     "title": ""
    }
   },
   "source": [
    "drivers \n",
    "rename: driverId== driver_id\n",
    "extract forename and surname get new columns\n",
    "drop url and ingestion_date"
   ]
  },
  {
   "cell_type": "code",
   "execution_count": 0,
   "metadata": {
    "application/vnd.databricks.v1+cell": {
     "cellMetadata": {
      "byteLimit": 2048000,
      "implicitDf": true,
      "rowLimit": 10000
     },
     "inputWidgets": {},
     "nuid": "c7ec3672-8154-4643-b9eb-35a246bf6f4b",
     "showTitle": false,
     "tableResultSettingsMap": {},
     "title": ""
    }
   },
   "outputs": [],
   "source": [
    "%sql\n",
    "select * from kalpitha_bronze.drivers limit 10;"
   ]
  },
  {
   "cell_type": "code",
   "execution_count": 0,
   "metadata": {
    "application/vnd.databricks.v1+cell": {
     "cellMetadata": {
      "byteLimit": 2048000,
      "rowLimit": 10000
     },
     "inputWidgets": {},
     "nuid": "d1bab603-f586-4451-a5e6-c76518acdf99",
     "showTitle": false,
     "tableResultSettingsMap": {},
     "title": ""
    }
   },
   "outputs": [],
   "source": [
    "# Drop the table using SQL\n",
    "spark.sql(\"DROP TABLE IF EXISTS cgi_dev.kalpitha_silver.drivers\")"
   ]
  },
  {
   "cell_type": "code",
   "execution_count": 0,
   "metadata": {
    "application/vnd.databricks.v1+cell": {
     "cellMetadata": {
      "byteLimit": 2048000,
      "rowLimit": 10000
     },
     "inputWidgets": {},
     "nuid": "74ecd068-82ae-474e-b9a4-d36a652be87b",
     "showTitle": false,
     "tableResultSettingsMap": {},
     "title": ""
    }
   },
   "outputs": [],
   "source": [
    "df = spark.read.table(\"kalpitha_bronze.drivers\")\n",
    "df1 = df.dropDuplicates().dropna()\\\n",
    ".withColumnRenamed(\"driverId\",\"driver_Id\")\\\n",
    ".withColumn(\"forename\", col(\"name.forename\"))\\\n",
    ".withColumn(\"surname\", col(\"name.surname\"))\\\n",
    ".drop(\"ingestion_date\",\"path\",\"url\",\"name\")\n",
    "df1.write.mode(\"overwrite\").saveAsTable(\"kalpitha_silver.drivers\")"
   ]
  },
  {
   "cell_type": "markdown",
   "metadata": {
    "application/vnd.databricks.v1+cell": {
     "cellMetadata": {
      "byteLimit": 2048000,
      "rowLimit": 10000
     },
     "inputWidgets": {},
     "nuid": "f9ed74f1-8f8b-4ab4-9494-a67cae95041a",
     "showTitle": false,
     "tableResultSettingsMap": {},
     "title": ""
    }
   },
   "source": [
    "circuits\n",
    "rename: circuitID-- circuit_id\n",
    "circuitRef-- circuit_ref\n",
    "drop url and ingestion-date, path"
   ]
  },
  {
   "cell_type": "code",
   "execution_count": 0,
   "metadata": {
    "application/vnd.databricks.v1+cell": {
     "cellMetadata": {
      "byteLimit": 2048000,
      "rowLimit": 10000
     },
     "inputWidgets": {},
     "nuid": "9afb555c-66ee-47b9-b7c4-72a8b11ff650",
     "showTitle": false,
     "tableResultSettingsMap": {},
     "title": ""
    }
   },
   "outputs": [],
   "source": [
    "df = spark.read.table(\"kalpitha_bronze.circuits\")\n",
    "df1 = df.dropDuplicates().dropna()\\\n",
    ".withColumnRenamed(\"circuitId\",\"circuit_Id\")\\\n",
    ".withColumnRenamed(\"circuitRef\",\"circuit_Ref\")\\\n",
    ".drop(\"ingestion_date\",\"path\",\"url\")\n",
    "df1.write.mode(\"overwrite\").saveAsTable(\"kalpitha_silver.circuits\")"
   ]
  },
  {
   "cell_type": "code",
   "execution_count": 0,
   "metadata": {
    "application/vnd.databricks.v1+cell": {
     "cellMetadata": {
      "byteLimit": 2048000,
      "implicitDf": true,
      "rowLimit": 10000
     },
     "inputWidgets": {},
     "nuid": "31609a30-fd08-46b6-a6c7-01ef4c83f639",
     "showTitle": false,
     "tableResultSettingsMap": {},
     "title": ""
    }
   },
   "outputs": [],
   "source": [
    "%sql\n",
    "select * from kalpitha_bronze.circuits limit 10;"
   ]
  },
  {
   "cell_type": "markdown",
   "metadata": {
    "application/vnd.databricks.v1+cell": {
     "cellMetadata": {
      "byteLimit": 2048000,
      "rowLimit": 10000
     },
     "inputWidgets": {},
     "nuid": "722e6922-0e81-4913-b077-9c9c156a0b19",
     "showTitle": false,
     "tableResultSettingsMap": {},
     "title": ""
    }
   },
   "source": [
    "constructor\n",
    "rename:constructorId== constructor_id\n",
    "constructorRef== constructor_ref"
   ]
  },
  {
   "cell_type": "code",
   "execution_count": 0,
   "metadata": {
    "application/vnd.databricks.v1+cell": {
     "cellMetadata": {
      "byteLimit": 2048000,
      "rowLimit": 10000
     },
     "inputWidgets": {},
     "nuid": "720691fb-51b0-43d1-aca6-ba683cd2f86d",
     "showTitle": false,
     "tableResultSettingsMap": {},
     "title": ""
    }
   },
   "outputs": [],
   "source": [
    "df = spark.read.table(\"kalpitha_bronze.constructors\")\n",
    "df1 = df.dropDuplicates().dropna()\\\n",
    ".withColumnRenamed(\"constructorId\",\"constructor_id\")\\\n",
    ".withColumnRenamed(\"constructorRef\",\"constructor_ref\")\\\n",
    ".drop(\"ingestion_date\",\"path\",\"url\")\n",
    "df1.write.mode(\"overwrite\").saveAsTable(\"kalpitha_silver.constructors\")"
   ]
  },
  {
   "cell_type": "markdown",
   "metadata": {
    "application/vnd.databricks.v1+cell": {
     "cellMetadata": {
      "byteLimit": 2048000,
      "rowLimit": 10000
     },
     "inputWidgets": {},
     "nuid": "7210e888-80da-4df7-897e-73982a5ec0b1",
     "showTitle": false,
     "tableResultSettingsMap": {},
     "title": ""
    }
   },
   "source": [
    "pitstops\n",
    "driverId== driver_id\n",
    "raceId==race_id"
   ]
  },
  {
   "cell_type": "code",
   "execution_count": 0,
   "metadata": {
    "application/vnd.databricks.v1+cell": {
     "cellMetadata": {
      "byteLimit": 2048000,
      "rowLimit": 10000
     },
     "inputWidgets": {},
     "nuid": "2cac2c3a-5728-4b38-b028-f109ae9b0bd0",
     "showTitle": false,
     "tableResultSettingsMap": {},
     "title": ""
    }
   },
   "outputs": [],
   "source": [
    "df = spark.read.table(\"kalpitha_bronze.pit_stops\")\n",
    "df1 = df.dropDuplicates().dropna()\\\n",
    ".withColumnRenamed(\"driverId\",\"driver_id\")\\\n",
    ".withColumnRenamed(\"raceId\",\"race_id\")\\\n",
    ".drop(\"ingestion_date\",\"path\")\n",
    "df1.write.mode(\"overwrite\").saveAsTable(\"kalpitha_silver.pit_stops\")"
   ]
  },
  {
   "cell_type": "code",
   "execution_count": 0,
   "metadata": {
    "application/vnd.databricks.v1+cell": {
     "cellMetadata": {
      "byteLimit": 2048000,
      "implicitDf": true,
      "rowLimit": 10000
     },
     "inputWidgets": {},
     "nuid": "9c82e05b-1a94-42c9-b0b0-f7846b194caa",
     "showTitle": false,
     "tableResultSettingsMap": {},
     "title": ""
    }
   },
   "outputs": [],
   "source": [
    "%sql\n",
    "select * from kalpitha_bronze.constructors limit 10;"
   ]
  }
 ],
 "metadata": {
  "application/vnd.databricks.v1+notebook": {
   "computePreferences": null,
   "dashboards": [],
   "environmentMetadata": {
    "base_environment": "",
    "environment_version": "2"
   },
   "inputWidgetPreferences": null,
   "language": "python",
   "notebookMetadata": {
    "mostRecentlyExecutedCommandWithImplicitDF": {
     "commandId": 1758486408704211,
     "dataframes": [
      "_sqldf"
     ]
    },
    "pythonIndentUnit": 4
   },
   "notebookName": "Refined Silver",
   "widgets": {}
  },
  "language_info": {
   "name": "python"
  }
 },
 "nbformat": 4,
 "nbformat_minor": 0
}
